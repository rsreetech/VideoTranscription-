{
 "cells": [
  {
   "cell_type": "code",
   "execution_count": 52,
   "metadata": {},
   "outputs": [],
   "source": [
    "from pytube import YouTube "
   ]
  },
  {
   "cell_type": "code",
   "execution_count": 53,
   "metadata": {},
   "outputs": [],
   "source": [
    "audio_path = 'C://'"
   ]
  },
  {
   "cell_type": "code",
   "execution_count": 54,
   "metadata": {},
   "outputs": [],
   "source": [
    "link='https://www.youtube.com/watch?v=dT_aIJZ7Mxw'"
   ]
  },
  {
   "cell_type": "code",
   "execution_count": 55,
   "metadata": {},
   "outputs": [],
   "source": [
    "try: \n",
    "    # object creation using YouTube\n",
    "    # which was imported in the beginning \n",
    "    yt = YouTube(link) \n",
    "except: \n",
    "    print(\"Connection Error\")"
   ]
  },
  {
   "cell_type": "code",
   "execution_count": 56,
   "metadata": {},
   "outputs": [
    {
     "data": {
      "text/plain": [
       "[<Stream: itag=\"18\" mime_type=\"video/mp4\" res=\"360p\" fps=\"30fps\" vcodec=\"avc1.42001E\" acodec=\"mp4a.40.2\" progressive=\"True\" type=\"video\">, <Stream: itag=\"22\" mime_type=\"video/mp4\" res=\"720p\" fps=\"30fps\" vcodec=\"avc1.64001F\" acodec=\"mp4a.40.2\" progressive=\"True\" type=\"video\">, <Stream: itag=\"137\" mime_type=\"video/mp4\" res=\"1080p\" fps=\"30fps\" vcodec=\"avc1.640028\" progressive=\"False\" type=\"video\">, <Stream: itag=\"136\" mime_type=\"video/mp4\" res=\"720p\" fps=\"30fps\" vcodec=\"avc1.64001f\" progressive=\"False\" type=\"video\">, <Stream: itag=\"135\" mime_type=\"video/mp4\" res=\"480p\" fps=\"30fps\" vcodec=\"avc1.4d401f\" progressive=\"False\" type=\"video\">, <Stream: itag=\"134\" mime_type=\"video/mp4\" res=\"360p\" fps=\"30fps\" vcodec=\"avc1.4d401e\" progressive=\"False\" type=\"video\">, <Stream: itag=\"133\" mime_type=\"video/mp4\" res=\"240p\" fps=\"30fps\" vcodec=\"avc1.4d4015\" progressive=\"False\" type=\"video\">, <Stream: itag=\"160\" mime_type=\"video/mp4\" res=\"144p\" fps=\"30fps\" vcodec=\"avc1.4d400c\" progressive=\"False\" type=\"video\">, <Stream: itag=\"139\" mime_type=\"audio/mp4\" abr=\"48kbps\" acodec=\"mp4a.40.5\" progressive=\"False\" type=\"audio\">, <Stream: itag=\"140\" mime_type=\"audio/mp4\" abr=\"128kbps\" acodec=\"mp4a.40.2\" progressive=\"False\" type=\"audio\">]"
      ]
     },
     "execution_count": 56,
     "metadata": {},
     "output_type": "execute_result"
    }
   ],
   "source": [
    " yt.streams.filter(file_extension='mp4')"
   ]
  },
  {
   "cell_type": "code",
   "execution_count": 57,
   "metadata": {},
   "outputs": [],
   "source": [
    "stream = yt.streams.get_by_itag(139)"
   ]
  },
  {
   "cell_type": "code",
   "execution_count": 58,
   "metadata": {},
   "outputs": [
    {
     "data": {
      "text/plain": [
       "'C://GoogleImagen.mp4'"
      ]
     },
     "execution_count": 58,
     "metadata": {},
     "output_type": "execute_result"
    }
   ],
   "source": [
    "\n",
    "stream.download(audio_path,\"GoogleImagen.mp4\")"
   ]
  },
  {
   "cell_type": "code",
   "execution_count": 59,
   "metadata": {},
   "outputs": [],
   "source": [
    "from pydub import AudioSegment"
   ]
  },
  {
   "cell_type": "code",
   "execution_count": 60,
   "metadata": {},
   "outputs": [],
   "source": [
    "given_audio = AudioSegment.from_file('C://GoogleImagen.mp4', format=\"mp4\")   "
   ]
  },
  {
   "cell_type": "code",
   "execution_count": 61,
   "metadata": {},
   "outputs": [
    {
     "data": {
      "text/plain": [
       "<_io.BufferedRandom name='GoogleImagen.wav'>"
      ]
     },
     "execution_count": 61,
     "metadata": {},
     "output_type": "execute_result"
    }
   ],
   "source": [
    "given_audio.export(\"GoogleImagen.wav\", format=\"wav\")"
   ]
  },
  {
   "cell_type": "code",
   "execution_count": 62,
   "metadata": {},
   "outputs": [],
   "source": [
    "import librosa\n",
    "\n",
    "import soundfile as sf\n",
    "\n"
   ]
  },
  {
   "cell_type": "code",
   "execution_count": 63,
   "metadata": {},
   "outputs": [
    {
     "name": "stderr",
     "output_type": "stream",
     "text": [
      "D:\\huggingface\\hf\\lib\\site-packages\\ipykernel_launcher.py:3: FutureWarning: Pass orig_sr=44100, target_sr=16000 as keyword args. From version 0.10 passing these as positional arguments will result in an error\n",
      "  This is separate from the ipykernel package so we can avoid doing imports until\n"
     ]
    }
   ],
   "source": [
    "sp, rate = sf.read(\"GoogleImagen.wav\")\n",
    "\n",
    "sp= librosa.resample(sp.T, rate, 16000)"
   ]
  },
  {
   "cell_type": "code",
   "execution_count": 64,
   "metadata": {},
   "outputs": [],
   "source": [
    "sf.write(\"GoogleImagen.wav\", sp.T, 16000, subtype='PCM_24')"
   ]
  },
  {
   "cell_type": "code",
   "execution_count": 65,
   "metadata": {
    "scrolled": true
   },
   "outputs": [
    {
     "name": "stderr",
     "output_type": "stream",
     "text": [
      "Some weights of Wav2Vec2ForCTC were not initialized from the model checkpoint at facebook/wav2vec2-large-960h and are newly initialized: ['wav2vec2.masked_spec_embed']\n",
      "You should probably TRAIN this model on a down-stream task to be able to use it for predictions and inference.\n"
     ]
    }
   ],
   "source": [
    "import torch\n",
    "\n",
    "from transformers import Wav2Vec2ForCTC, Wav2Vec2Tokenizer\n",
    "\n",
    "tokenizer = Wav2Vec2Tokenizer.from_pretrained(\"facebook/wav2vec2-large-960h\")\n",
    "\n",
    "model = Wav2Vec2ForCTC.from_pretrained(\"facebook/wav2vec2-large-960h\")"
   ]
  },
  {
   "cell_type": "markdown",
   "metadata": {},
   "source": [
    "Below code from: https://github.com/huggingface/transformers/issues/10366"
   ]
  },
  {
   "cell_type": "code",
   "execution_count": 70,
   "metadata": {},
   "outputs": [
    {
     "name": "stdout",
     "output_type": "stream",
     "text": [
      "16000\n"
     ]
    }
   ],
   "source": [
    "transcript = \"\"\n",
    "# Ensure that the sample rate is 16k\n",
    "print(librosa.get_samplerate(\"GoogleImagen.wav\"))\n",
    "\n",
    "# Stream over 30 seconds chunks rather than load the full file\n",
    "stream = librosa.stream(\n",
    "    \"GoogleImagen.wav\",\n",
    "    block_length=5,\n",
    "    frame_length=16000,\n",
    "    hop_length=16000\n",
    ")\n",
    "\n"
   ]
  },
  {
   "cell_type": "code",
   "execution_count": 67,
   "metadata": {},
   "outputs": [
    {
     "name": "stdout",
     "output_type": "stream",
     "text": [
      "IN THIS WIDIO LET'S LOOK AT IMEGEN A NEW EIR SYSTEM FROM GOUGLE BRAIN\n",
      "RATE SO ORDERS IMAGINE IMAGINE TICKS ARE TEXED AS AN IMPURT AND INGIN\n",
      "WRITS IMAGES FOR EXAMPLE THE TEXT OVER HERE IS A CRON PLATTER DU\n",
      "WITH A GOLDEN BEAK ARGUING WITH AN ANGRY TURTLE IN A FOREST SO THIS THEIR TEXT GIVEN\n",
      "AND THIS IS THE IMAGE EN RATED SO HOW DOES THIS SYSTEM WORK O QUET\n",
      "SO THIS SYSTEM TAKES TEXT AS AN INPUT THARE IS A FROZEN TEX\n",
      "IN QUARDER WHICH PRODUCES A TEXTAIM BIDDING THIS TEXTAM BIDDING IS THEN FED INTO A SE\n",
      "RES OFF IMAGE DEFUSION MORALS O KIT THAT IS A FUST TAKES TOO IMAGE DEFICIENT MO\n",
      "ODEL WE GENERATES ANY MITCH THEN THERE IS A SUPERIAL RESOLUTION THE FI\n",
      "SH AND MORTAL WHICH IS USED FOR INCREASING THE RESOLUTION HOKE THEN YOU HAVE\n",
      "ANOTHER SUPERRESOLUTION DEFICIENT MORTAL WHICH GIVES ZUDHA FINAL IMAGE AND EAT\n",
      "O OF THESE DEFICIENT MORALS TEXTHE TEXTAM BRIDDING AS THEY PUT ALONG WITH THE PREV\n",
      "HIS OUTPUT OF THE PREVIOUS STAGE HOKE SO FOR THER TEXT OR IN CORDEROVER HE\n",
      "ER THEY USER T FAI EXEXL EN CORDAR TEN CORDA IN PROTEXTIN TO EME\n",
      "INGS THEN THEY HAVE CONDITIONAL DIFFUSION MORTAL MAPS THEIR TEXT IMBERDING IN\n",
      "TOU AH THE VERIES SIXTY FOUR INO SIXTY FOUR IMITE THEN THERE IS A A FARTHER SO\n",
      "PER CONDITI A CURTEXED CONDITION SUPER RESOLUTION DEFUCIENT MORTAL WHICH CAN ABSAMPULDA\n",
      "IMAGE SIXTY FOUR SIXTY FOUR IMAGEIN TUTHE FINAL IMAGE AND IF YOU LOOK AT THE FO\n",
      "TOS OVERHERE WHICH HAVE BEEN GENERATED BEST ON THE CAPTAINS THE FORTO QUALITY AND\n",
      "FORTURIALISM IS MUCH HIGH WHEN COMPARED TO DALLY GE\n",
      "SO HERE IS ANOTHER EXAMPLE WHICH THEY SHOW OVERHERE RAGT SO YOU CAN\n",
      "CLICONOVARD AND A YOU CAN SEE WHAT IS A KIND OF IMAGE WHICH HAS BEEN  GENERATED FOR EXAMPLE\n",
      "A FORTEA OFF A BRETISH SHORT HAIR CAT WEARING A COWBOY HAT AND A RED SHIRT\n",
      "AIDING A BAKE ON A BEACH SO THIS IS A KIND OF IMEDUCATE NOW IF YOU WERE TO LATERON THI IS AN AISLE PAINT\n",
      "NG OF THE SAME THING OKE FOR EXAMPLE THIS IS A PERSIAN CATER THIS DAY MADE WHICH HAS BIN GE\n",
      "N RITED OGE SO IF YOU CLICK ON FAZIPENTA AH SO FOR THE PENDA THIS IS THE CAN\n",
      "DOFF IMAGE WHICH HAS BEEN GENERATORD BASED ON THIS HIGH LATER TEXT CAPTION SO THIS IS\n",
      "PLAYING A GITAT THIS IS RADING A BAKE THIS IS SCARED BUODDING ON TOP OF A MOUNTAIN\n",
      "SO THERE IS AN ISLE PAINTING RATE NOW IF YOU GO TO FORTO YOU SEE THIS FORTO QUALITY WHICH HAS BEEN GINDRED\n",
      "HOK SO THIS SEEMS MUCH BETTER THAN DALLY AND THEY SAY THAT AVEN THEY\n",
      "HAVE LOOKED AT THE BENCH MARKS OVER HERE THEY'VE ATTAINED A NEW STATE OF HEART SCORE\n",
      "A IMAGE FITTE LITTY SCORE A ON NOVEN COMPARE TO DELI T\n",
      "AR THE OTHER MORALS ON THE COQORITOSIT OGE\n",
      "SO THIS IS QUITE INTERESTING WORK A ANDA I'M A MIZUR AT THE PACE\n",
      "AT WHICH ER IS SIR DEVOLOPING NO WITH NEWER MODELS BEING DEVELOPED BY THESE BIG\n",
      "BIG RESEARCH TEAMS ACHIEVING A NEWER A FASCINATING RESULTS HOW YO\n",
      "HOPE YOU LAK THIS WILLO ON IMEGINE AH IF YOU LAK THE WILDOW POLICE LECTURE'S ASCRIBED\n",
      "THE CHANNEL SU AND OTHE RIDIO HAPPY LIGHTNING\n"
     ]
    }
   ],
   "source": [
    "for speech in stream:\n",
    "        if len(speech.shape) > 1:\n",
    "            speech = speech[:, 0] + speech[:, 1]\n",
    "\n",
    "        input_values = tokenizer(speech, return_tensors=\"pt\").input_values\n",
    "        logits = model(input_values).logits\n",
    "\n",
    "        predicted_ids = torch.argmax(logits, dim=-1)\n",
    "        transcription = tokenizer.decode(predicted_ids[0])\n",
    "        print(transcription)\n",
    "        "
   ]
  },
  {
   "cell_type": "code",
   "execution_count": 68,
   "metadata": {},
   "outputs": [
    {
     "name": "stderr",
     "output_type": "stream",
     "text": [
      "Some weights of Wav2Vec2ForCTC were not initialized from the model checkpoint at facebook/wav2vec2-base-960h and are newly initialized: ['wav2vec2.masked_spec_embed']\n",
      "You should probably TRAIN this model on a down-stream task to be able to use it for predictions and inference.\n"
     ]
    }
   ],
   "source": [
    "\n",
    "\n",
    "tokenizer = Wav2Vec2Tokenizer.from_pretrained(\"facebook/wav2vec2-base-960h\")\n",
    "\n",
    "model = Wav2Vec2ForCTC.from_pretrained(\"facebook/wav2vec2-base-960h\")"
   ]
  },
  {
   "cell_type": "code",
   "execution_count": 71,
   "metadata": {},
   "outputs": [
    {
     "name": "stdout",
     "output_type": "stream",
     "text": [
      "IN THIS VIDO LETS LOOK AT IMAJEN A NEW AIR SYSTEM FROM GUGUL BRAIN\n",
      "RATE SO OR DOES IMAGINE IMAGINE TICS ARE TEXED AS AN IMPORT AND INGIN\n",
      "DRATS EMAGIS FOR EXAMPLE THE TIXST OVER HERE IS A CRON PLITED DO\n",
      "WITH A GOLDEN BEAK ARGUING WITH AN ANGRY TURTLE IN A FOREST SO THEIS THE TEXT GIVEN\n",
      "AND THIS IS THE EMAGENERATED SO HOW DOES THIS SYSTEM WORK OQE\n",
      "SO THIS SYSTEM TIKS TIXED AS AN INPUT THAT IS A FROZEN TIX\n",
      "IN QUARDER WHICH PRODUCES A TEXT IN BEDDING THIS DEXT AN BEDDING IS THEN FED INTO A SEA\n",
      "REASE OFF IMAGE BEFFUSION MODELS  THAT IS A FUST EXTREMAGE DEFICIENT M\n",
      "ORDER WE GENERATES ANY MITCH THEN THAR IS A SUPERERESOLUTION DIF\n",
      "TIAND MODEL WHICH IS USED FOR INCREASING THE RESOLUTION HOKE THEN YOU AVE\n",
      "ANOTHER SUPER RESOLUTION DEFICIENT MODEL WHICH GIVES YOTHER FINAL IMAGE AND EAC\n",
      "URE OF THESE DEFICIENT MODELS TITHE TEXT IN BEDDING AS THEY PUT ALONG WITH THE PREV\n",
      "IS OUTPUT OF THE PREVIOUS TAGE OKE SO FARTHER TEXT AR INCORDER OVER HE\n",
      "E THE USUR TIFI EXAXEL AND CORDER TOEN CORDA IN PORTEXTINTO A\n",
      "RINGS THEN THEY HAVE CONDITIONAL DEFFUSION MORTAL MAPS THEIR TIXT IN BERING IN\n",
      "TOO A DE VELIUS SIXTY FOUR INT SIXTY FOUR IMMATES THEN THAT IS A AH FARTHER S\n",
      "OPER CONDITI A CIC CONDITIONS SOUPER RESOLUTIEN DEFFICIENT MODEL WHICH CAN ABSAMPLE THE\n",
      "IMAGE SIXTY FOUR PER SIXTY FOUR IMAGING TO THE FINAL IMAGE AND IF YOU LOOK AT THERE FOU\n",
      "OPUS OVER HERE WHICH HAVE BEEN GENRATED BEARES ON THE CAPTUNS THE FORTO QUALITY AND\n",
      "E FORTORIALISM IS MUCH HIG EN COMPARED TO DALY\n",
      "SO HERE IS ANNOTHER EXAMPLE WHICH THEY SHOW OVER HERE RATE SO YOU CAN\n",
      "LICONOWORD AND A YOU CAN SEE WHATTERS A KIND OF IMAGE WHICH HAS BEEN GENRATED FOR EXAMPLE\n",
      "A FORTO OFF A BRITTYS SHORT HAR CAT WEADING A COWBOY HAT AND A RED SHIRT R\n",
      "ADING A BIKE ON A BEACH SO THIS IS THE KIND OF HE MAY JUKE IT NOW SHALL GO TO LATHERON THIS IS AN ISLE PAY\n",
      "ING OFF THE SAME THING OGE FOR EXAMPLE THI ZAPERSIAN CAT THIS TAY MADE WICH TER HAS VING\n",
      "NDRATED NOGE SO IF YOU CLLICON FERZIPANTER ASO FOR THE PANTER THIS IS THE CAN\n",
      "D OF IMAGE WHICH HAS BEEN GENERATOR BASED ON THIS HIGH LATED TEXT CAPTIN SO THIS IS\n",
      "PLAYING AGIT AT THIS IS RADING A BIKE THIS IS SCARED BORDING ON TOP OF A MOUNTAIN\n",
      "SO THERE IS AN ILE PAINTING RATE NOW IF YOU GORE TO FORTO YOU SEE THIS FOTOQUALITY WHICH HAS BEEN GINDERED\n",
      "OSO THIS SEEMS MUCH BETTER THAN DALLY AN THEY SAY THAT ARE WHEN THEY\n",
      "I LOOKED AT THE BENCH MARKS OVER HEAR THEY'VE ATTAINED A NEW STATE OF ART SCORE\n",
      "A IMAGE FIDELITI SCORE A ON E NOWEN COMPARED TU DADLY T\n",
      "O OAR THETHER MORTELS ON THE COCORY TO SAID OGE\n",
      "SO THIS IS QUITE INTERESTING WORK AANDA IAM AMAZER AT THE PACE\n",
      "AT WHICH AIR IS SA DE LOPIGNO WITH NEWER MODELS BEING DEVILUVERED BY THESE BIG\n",
      "BIG RESUCH TEAMS ACHIEVING A NEWER A FASCINATING RESULTS A U\n",
      "OPE YOU LIKE THIS WIDO ON IMIGIN AH IF YOU LIKE THE WIDOR POLICE LECTURES ESCRABED\n",
      "U THE CHANNELS SEE YOU AND OTHER RIDIO HAPPY LEARTNING\n"
     ]
    }
   ],
   "source": [
    "for speech in stream:\n",
    "        if len(speech.shape) > 1:\n",
    "            speech = speech[:, 0] + speech[:, 1]\n",
    "\n",
    "        input_values = tokenizer(speech, return_tensors=\"pt\").input_values\n",
    "        logits = model(input_values).logits\n",
    "\n",
    "        predicted_ids = torch.argmax(logits, dim=-1)\n",
    "        transcription = tokenizer.decode(predicted_ids[0])\n",
    "        print(transcription)"
   ]
  },
  {
   "cell_type": "code",
   "execution_count": null,
   "metadata": {},
   "outputs": [],
   "source": []
  }
 ],
 "metadata": {
  "kernelspec": {
   "display_name": "Python 3",
   "language": "python",
   "name": "python3"
  },
  "language_info": {
   "codemirror_mode": {
    "name": "ipython",
    "version": 3
   },
   "file_extension": ".py",
   "mimetype": "text/x-python",
   "name": "python",
   "nbconvert_exporter": "python",
   "pygments_lexer": "ipython3",
   "version": "3.6.10"
  }
 },
 "nbformat": 4,
 "nbformat_minor": 4
}
